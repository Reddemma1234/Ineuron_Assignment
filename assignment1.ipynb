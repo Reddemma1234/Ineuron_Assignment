{
 "cells": [
  {
   "cell_type": "markdown",
   "metadata": {},
   "source": [
    " 1. In the below elements which of them are values or an expression? eg:- values can be\n",
    " integer or string and expressions will be mathematical operators.\n",
    " *\n",
    " &#39;hello&#39;\n",
    " -87.8\n",
    " -\n",
    " /\n",
    " +\n",
    " 6"
   ]
  },
  {
   "cell_type": "code",
   "execution_count": null,
   "metadata": {},
   "outputs": [],
   "source": [
    "# ANS\n",
    "Values: 6, ‘hello’\n",
    "Expressions: *, -, /, +"
   ]
  },
  {
   "cell_type": "code",
   "execution_count": null,
   "metadata": {},
   "outputs": [],
   "source": [
    "2. What is the difference between string and variable?\n",
    "\n",
    "ANS:\n",
    "    \n",
    "String: Strings can be created by enclosing character data types inside a single quote or double-quotes.\n",
    "Some time we can use triple quotes in Python but. \n",
    "\n",
    "Variable:  variable is a reserved memory location to store values. We can assign any data to that variable and we can store and reuse later when ever it's required. "
   ]
  },
  {
   "cell_type": "code",
   "execution_count": null,
   "metadata": {},
   "outputs": [],
   "source": [
    "3. Describe three different data types.\n",
    "\n",
    "In python we have multiple data types.\n",
    "\n",
    "string data type: We can store alpha and alpha numeric values inside the string data type\n",
    "Numeric data type: We can store numeric values in numeric data type\n",
    "Boolian data type: True or False we can consider as a boolian data types. \n",
    "Float data type: We can store float values into float data type. "
   ]
  },
  {
   "cell_type": "code",
   "execution_count": null,
   "metadata": {},
   "outputs": [],
   "source": [
    "4. What is an expression made up of? What do all expressions do?\n",
    "Ans: An expression is a construct made up of variables, operators, and method invocations, \n",
    "    which are constructed according to the syntax of the language."
   ]
  },
  {
   "cell_type": "code",
   "execution_count": null,
   "metadata": {},
   "outputs": [],
   "source": [
    "5. This assignment statements, like spam = 10. What is the difference between an expression and a statement?\n",
    "ANS:\n",
    "    Expression is made up of values, containers, and mathematical operators (operands) and the statement is just like \n",
    "    a command that a python interpreter executes like print."
   ]
  },
  {
   "cell_type": "code",
   "execution_count": 1,
   "metadata": {},
   "outputs": [
    {
     "data": {
      "text/plain": [
       "23"
      ]
     },
     "execution_count": 1,
     "metadata": {},
     "output_type": "execute_result"
    }
   ],
   "source": [
    "# 6. After running the following code, what does the variable bacon contain?\n",
    "bacon = 22\n",
    "bacon + 1\n",
    "#ans is 23"
   ]
  },
  {
   "cell_type": "code",
   "execution_count": 4,
   "metadata": {},
   "outputs": [
    {
     "data": {
      "text/plain": [
       "'spamspamspam'"
      ]
     },
     "execution_count": 4,
     "metadata": {},
     "output_type": "execute_result"
    }
   ],
   "source": [
    "#7. What should the values of the following two terms be?\n",
    "'spam' + 'spamspam'\n",
    "'spam' * 3\n",
    "#ans is: 'spamspamspam' for both "
   ]
  },
  {
   "cell_type": "code",
   "execution_count": null,
   "metadata": {},
   "outputs": [],
   "source": [
    "8. Why is eggs a valid variable name while 100 is invalid?\n",
    "\n",
    "Every variable should be start with either _ or alphabit. So eggs is valid variable. \n",
    "Where as 100 is starting with numeric values. so it's not valied way to create variable. "
   ]
  },
  {
   "cell_type": "code",
   "execution_count": null,
   "metadata": {},
   "outputs": [],
   "source": [
    "9. What three functions can be used to get the integer, floating-point number, or string version of a value?\n",
    "ANS:\n",
    "    \n",
    "The int() , float() , and str( ) functions will evaluate to the integer, floating-point number, and string versions of the value."
   ]
  },
  {
   "cell_type": "code",
   "execution_count": 7,
   "metadata": {},
   "outputs": [
    {
     "data": {
      "text/plain": [
       "'I have eaten 99 burritos.'"
      ]
     },
     "execution_count": 7,
     "metadata": {},
     "output_type": "execute_result"
    }
   ],
   "source": [
    "#10. Why does this expression cause an error? How can you fix it?\n",
    "'I have eaten ' + 99 + ' burritos.'\n",
    "\n",
    "Ans: We are trying to concatinate string data types and numeric data types values. If we want to do concatinate we need to convert all the data types into \n",
    "single type. In this case we need to convert 99 into string format first. \n",
    "\n",
    "'I have eaten ' + str(99) + ' burritos.'"
   ]
  }
 ],
 "metadata": {
  "kernelspec": {
   "display_name": "Python 3 (ipykernel)",
   "language": "python",
   "name": "python3"
  },
  "language_info": {
   "codemirror_mode": {
    "name": "ipython",
    "version": 3
   },
   "file_extension": ".py",
   "mimetype": "text/x-python",
   "name": "python",
   "nbconvert_exporter": "python",
   "pygments_lexer": "ipython3",
   "version": "3.9.12"
  }
 },
 "nbformat": 4,
 "nbformat_minor": 4
}
